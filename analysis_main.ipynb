{
 "cells": [
  {
   "cell_type": "code",
   "execution_count": 55,
   "metadata": {
    "collapsed": true
   },
   "outputs": [],
   "source": [
    "import os\n",
    "import datetime\n",
    "\n",
    "import pandas as pd\n",
    "import numpy as np\n",
    "from sklearn.utils import shuffle\n",
    "from sklearn import metrics\n",
    "from sklearn.ensemble import RandomForestClassifier\n",
    "from sklearn.preprocessing import PolynomialFeatures\n",
    "from sklearn.linear_model import LogisticRegression\n",
    "import seaborn as sns\n",
    "import matplotlib.pyplot as plt\n",
    "\n",
    "\n",
    "%matplotlib inline\n",
    "pd.options.display.max_columns = 150"
   ]
  },
  {
   "cell_type": "code",
   "execution_count": 305,
   "metadata": {
    "collapsed": true
   },
   "outputs": [],
   "source": []
  },
  {
   "cell_type": "code",
   "execution_count": 294,
   "metadata": {
    "collapsed": true
   },
   "outputs": [],
   "source": [
    "# functions used throughout notebook\n",
    "def load_data(filename, prefix):\n",
    "    \"\"\"Combine all three years of data for a file. Places prefix for each column\"\"\"\n",
    "    years = ['s2014','s2015','s2016']\n",
    "    mid_path = '/data/'\n",
    "     \n",
    "    for year in years:        \n",
    "        path = year + mid_path + filename + '.csv'\n",
    "        df = pd.read_csv(path,parse_dates = ['Date'], infer_datetime_format=True, index_col = 0, encoding='latin1')\n",
    "        if year == 's2014':\n",
    "            df_m = df\n",
    "        else:\n",
    "            df_m = df_m.append(df)\n",
    "    \n",
    "    df_m.columns = prefix + \"__\" + np.array(df_m.columns)\n",
    "    df_m.reset_index(drop = True, inplace = True)\n",
    "    \n",
    "    # drop all % signs from dataframe\n",
    "    for col in [col for col in df_m.columns if col.endswith('%')]:\n",
    "        df_m[col] = df_m[col].str.replace(\"%\",\"\").astype(float)\n",
    "    for col in [col for col in df_m.columns if col.endswith('HR/FB')]:\n",
    "        df_m[col] = df_m[col].str.replace(\"%\",\"\").astype(float)\n",
    "    \n",
    "    # drop fake index col\n",
    "    cols = [col for col in df_m.columns if not col.endswith(\"#\")]\n",
    "    df_m = df_m[cols]\n",
    "    \n",
    "    cols = [prefix + \"__\" + x for x in ['Date','Team','Name']]\n",
    "    cols = [col for col in df_m.columns if col in cols]\n",
    "    df_m.drop_duplicates(subset = cols, inplace = True)\n",
    "    return df_m\n",
    "\n",
    "def target_percent(df):\n",
    "    \"\"\"Calculate percent of set that results in ten selections per day\n",
    "    \n",
    "    Args:\n",
    "        df: Full set dataframe\n",
    "        \n",
    "    Returns:\n",
    "        Threshold value to be passed to np.percentile\n",
    "    \"\"\"\n",
    "    game_count = df.date.unique().shape[0]\n",
    "    at_bats = df.shape[0]\n",
    "    pct = 10 / (at_bats / game_count)\n",
    "    \n",
    "    return 100 - round(pct * 100, 2)\n",
    "\n",
    "def load_analysis_set(version):\n",
    "    \"\"\"Load analysis data set. Processes if necessary.\n",
    "    Args:\n",
    "        version: int. checkpointed version of data\n",
    "        \n",
    "    Returns:\n",
    "        df: Analysis dataframe\n",
    "    \"\"\" \n",
    "    file = 'data/analysis_' + str(version) + \"_.csv\"\n",
    "    \n",
    "    df = pd.read_csv(file, parse_dates=['date', 'date_m1'], encoding = 'latin1')\n",
    "    \n",
    "    return df\n",
    "\n",
    "def random_predictions(df):\n",
    "    \"\"\"Returns array of random ones and zeros consistent with hit rate\"\"\"\n",
    "    rate = df[df.model_set == 'train'].got_hit.mean()\n",
    "    dev_size = (df.model_set == 'dev').sum()\n",
    "    t = [1] * int(dev_size * rate)\n",
    "    t += ([0] * (dev_size - len(t)))\n",
    "    t = shuffle(np.array(t))\n",
    "    return t\n",
    "\n",
    "def rate_histogram(df, features):\n",
    "    \"\"\"Plot precision by percentile for a set of features in facetgrid\n",
    "    \n",
    "    Args:\n",
    "        df: model dataframe. must have features and model_set column\n",
    "        features: names of columns to plot\n",
    "    \"\"\"\n",
    "    # get percentile groupings of train set for selected features\n",
    "    df = df[df.model_set == 'train']\n",
    "    df_long = pd.DataFrame(columns=['percentile', 'feature', 'got_hit'])\n",
    "    labels = [x for x in range(1,11)]\n",
    "    for feature in features:\n",
    "        bins = pd.cut(df[feature], bins=10, labels=labels)\n",
    "        df_temp = pd.DataFrame({'percentile': bins, \n",
    "                                'feature': [feature] * len(bins), \n",
    "                                'got_hit': df.got_hit.tolist()})\n",
    "        df_long = pd.concat([df_long, df_temp])\n",
    "    \n",
    "    # get average hit rate\n",
    "    df_long['got_hit'] = pd.to_numeric(df_long.got_hit)\n",
    "    df_long['percentile'] = pd.to_numeric(df_long.percentile)\n",
    "    df_long = df_long.groupby(['feature', 'percentile']).mean().reset_index()\n",
    "    \n",
    "    # plot as facet grid\n",
    "    g = sns.FacetGrid(df_long, col=\"feature\", col_wrap=3)\n",
    "    g = g.map(plt.plot, \"percentile\", \"got_hit\", marker = \".\")\n",
    "\n",
    "not_features = ['date','home','matchup','opp_pitcher','opp_pitcher_lefty',\n",
    "                'opp_team','own_pitcher','own_pitcher_lefty','team', 'date_m1',\n",
    "                'team_fg','opp_team_fg','got_hit','name','model_set','fs_id']"
   ]
  },
  {
   "cell_type": "markdown",
   "metadata": {},
   "source": [
    "# Main Analysis\n",
    "All data transformations and modeling used in final approach is stored here. Unsuccessful attempts are store in [file]\n",
    "## Build Base Dataframe"
   ]
  },
  {
   "cell_type": "code",
   "execution_count": 126,
   "metadata": {},
   "outputs": [],
   "source": [
    "team_key = {\n",
    "    'Chicago Cubs':'CHC',\n",
    "    'St. Louis Cardinals':'STL',\n",
    "    'Colorado Rockies': 'COL',\n",
    "    'Washington Nationals': 'WSN',\n",
    "    'Minnesota Twins': 'MIN',\n",
    "    'San Francisco Giants': 'SFG',\n",
    "    'Boston Red Sox': 'BOS',\n",
    "    'Toronto Blue Jays': 'TOR',\n",
    "    'New York Yankees': 'NYY',\n",
    "    'Seattle Mariners': 'SEA',\n",
    "    'Atlanta Braves': 'ATL',\n",
    "    'Baltimore Orioles': 'BAL',\n",
    "    'Milwaukee Brewers': 'MIL',\n",
    "    'Philadelphia Phillies': 'PHI',\n",
    "    'Arizona Diamondbacks': 'ARI',\n",
    "    'Chicago White Sox': 'CHW',\n",
    "    'Cincinnati Reds': 'CIN',\n",
    "    'San Diego Padres':'SDP',\n",
    "    'Texas Rangers': 'TEX',\n",
    "    'Los Angeles Angels': 'LAA',\n",
    "    'Oakland Athletics':'OAK',\n",
    "    'Tampa Bay Rays': 'TBR',\n",
    "    'Miami Marlins': 'MIA',\n",
    "    'Houston Astros': 'HOU',\n",
    "    'New York Mets': 'NYM',\n",
    "    'Pittsburgh Pirates': 'PIT',\n",
    "    'Detroit Tigers': 'DET',\n",
    "    'Cleveland Indians': 'CLE',\n",
    "    'Kansas City Royals': 'KCR',\n",
    "    'Los Angeles Dodgers': 'LAD',\n",
    "}\n",
    "\n",
    "# load all game info\n",
    "matchups_long = pd.read_csv('matchups_long.csv', parse_dates=['date'])\n",
    "matchups_long.drop('Unnamed: 0', axis = 1, inplace = True)\n",
    "\n",
    "# date_m1 is used to match statistics\n",
    "# must match on the day before the game\n",
    "matchups_long['date_m1'] = matchups_long.date - datetime.timedelta(days = 1)\n",
    "\n",
    "# drop all star games and double headers\n",
    "matchups_long = matchups_long[matchups_long.team != 'National League All-Stars']\n",
    "matchups_long = matchups_long[matchups_long.team != 'American League All-Stars']\n",
    "matchups_long['team_fg'] = matchups_long.team.apply(lambda x: team_key[x])\n",
    "matchups_long['opp_team_fg'] = matchups_long.opp_team.apply(lambda x: team_key[x])\n",
    "matchups_long.drop_duplicates(subset = ['date', 'team_fg', 'opp_team_fg'], inplace = True)\n",
    "\n",
    "# merge in result of game's at bats (dependent variable)\n",
    "temp_df = load_data('hitting/results_master','results')\n",
    "left_variables = ['results__Date','results__Name','results__Team']\n",
    "temp_df.drop_duplicates(subset=left_variables, inplace = True)\n",
    "left_variables = ['results__Date','results__Team']\n",
    "matchups_long = pd.merge(temp_df, matchups_long,\n",
    "               how = 'left',\n",
    "               left_on = left_variables,\n",
    "               right_on = ['date','team_fg'])\n",
    "matchups_long['got_hit'] = matchups_long.results__AVG > 0\n",
    "cols = [x for x in matchups_long.columns if not x.startswith('results__')] + ['results__Name']\n",
    "matchups_long = matchups_long[cols]\n",
    "matchups_long.rename(columns = {'results__Name': 'name'}, inplace = True)\n",
    "matchups_long.dropna(inplace = True)\n",
    "\n",
    "# shuffle and split out model sets\n",
    "matchups_long = shuffle(matchups_long)\n",
    "size = len(matchups_long)\n",
    "model_set = ['train'] * int(size *.5)\n",
    "model_set += ['dev'] * int(size *.4)\n",
    "model_set += ['test'] * (size - len(model_set))\n",
    "matchups_long['model_set'] = model_set\n",
    "matchups_long['fs_id'] = list(range(0,size))\n",
    "\n",
    "matchups_long.to_csv('data/analysis_1_.csv', index = False)"
   ]
  },
  {
   "cell_type": "markdown",
   "metadata": {},
   "source": [
    "## Previous Hit Consistency\n",
    "Percent that a batter gets at least one hit in game. "
   ]
  },
  {
   "cell_type": "code",
   "execution_count": 127,
   "metadata": {},
   "outputs": [],
   "source": [
    "df = load_analysis_set(1)"
   ]
  },
  {
   "cell_type": "code",
   "execution_count": 128,
   "metadata": {},
   "outputs": [],
   "source": [
    "# load dataset\n",
    "df_hits = load_data('hitting/results_master','results')\n",
    "right = ['results__Date','results__Name','results__Team']\n",
    "df_hits.drop_duplicates(subset = right, inplace = True)\n",
    "df_hits = df_hits[df_hits.results__G == 1]\n",
    "df_hits['hit'] = df_hits.results__H > 0\n",
    "df_hits.sort_values('results__Date', inplace = True)\n",
    "\n",
    "# calculate cumulative average of getting a hit\n",
    "gb = ['results__Season', 'results__Team','results__Name']\n",
    "cols = ['results__G', 'hit']\n",
    "df_gb = df_hits[gb + cols].groupby(gb).cumsum()\n",
    "cols = ['hitbin_g_cum', 'hitbin_hit_cum']\n",
    "df_gb.columns = cols\n",
    "df_hits = pd.concat([df_hits, pd.concat([df_hits, df_gb], axis = 1)[gb + cols].groupby(gb).shift()], axis = 1)\n",
    "df_hits['hitbin_avg_cum'] = df_hits.hitbin_hit_cum / df_hits.hitbin_g_cum\n",
    "df_hits.drop('hitbin_hit_cum', axis = 1, inplace = True)\n",
    "\n",
    "def drop_small_sample(row):\n",
    "    \"\"\"Fill avg with games < 10 with nan\"\"\"\n",
    "    try:\n",
    "        if row.hitbin_g_cum < 10:\n",
    "            return np.nan\n",
    "        else:\n",
    "            return row.hitbin_avg_cum\n",
    "    except:\n",
    "        return np.nan\n",
    "df_hits['hitbin_avg_cum'] = df_hits.apply(drop_small_sample, axis = 1)"
   ]
  },
  {
   "cell_type": "code",
   "execution_count": 129,
   "metadata": {
    "scrolled": true
   },
   "outputs": [
    {
     "data": {
      "text/plain": [
       "<matplotlib.axes._subplots.AxesSubplot at 0x1be100d2978>"
      ]
     },
     "execution_count": 129,
     "metadata": {},
     "output_type": "execute_result"
    },
    {
     "data": {
      "image/png": "[encoded data removed]",
      "text/plain": [
       "<matplotlib.figure.Figure at 0x1be0a1691d0>"
      ]
     },
     "metadata": {},
     "output_type": "display_data"
    }
   ],
   "source": [
    "sns.distplot(df_hits.hitbin_avg_cum.dropna())"
   ]
  },
  {
   "cell_type": "code",
   "execution_count": 130,
   "metadata": {
    "collapsed": true
   },
   "outputs": [],
   "source": [
    "# calculate rolling averages for hit binary statistic\n",
    "def concat_window(df_hits, window):\n",
    "    \"\"\"Calculates average hit binary for specified window length\n",
    "    \n",
    "    Args:\n",
    "        df_hits: dataframe to calculate\n",
    "        window: int. Number of games to go back\n",
    "    \n",
    "    Returns:\n",
    "        df_hits with rolling average concatenated as last col\n",
    "    \"\"\"\n",
    "    # calculate rolling average\n",
    "    gb = ['results__Season', 'results__Team','results__Name']\n",
    "    cols = ['hit']\n",
    "    df_gb = df_hits[gb + cols].groupby(gb).rolling(window).mean()\n",
    "    df_gb = df_gb.drop(gb, axis = 1).reset_index().set_index('level_3').drop(gb, axis = 1)\n",
    "    cols = ['hitbin_avg_p' + str(window)]\n",
    "    df_gb.columns = cols\n",
    "    \n",
    "    # shift rolling average and concatenate\n",
    "    df_gb = pd.concat([df_hits, df_gb], axis = 1)[gb + cols].groupby(gb).shift()\n",
    "    df_gb = pd.concat([df_hits, df_gb], axis = 1)\n",
    "    return df_gb\n",
    "\n",
    "df_hits = concat_window(df_hits, 7)\n",
    "df_hits = concat_window(df_hits, 21)\n",
    "\n",
    "# merge with main df\n",
    "columns = df_hits.columns[-4:].tolist()\n",
    "columns += ['results__Date', 'results__Team','results__Name']\n",
    "df_hits = df_hits[columns]\n",
    "df_hits.rename(columns = {'results__Date':'date', \n",
    "                          'results__Team':'team_fg',\n",
    "                          'results__Name':'name'}, \n",
    "               inplace = True)\n",
    "df = pd.merge(df, df_hits, how = 'left', on = ['name', 'date', 'team_fg'])\n",
    "\n",
    "# drop batters with less than 10 games\n",
    "# drops about 16% of rows\n",
    "df.dropna(subset = ['hitbin_avg_cum'], inplace = True)\n",
    "df.hitbin_avg_p21.fillna(df.hitbin_avg_p7, inplace = True)"
   ]
  },
  {
   "cell_type": "code",
   "execution_count": 213,
   "metadata": {},
   "outputs": [
    {
     "name": "stdout",
     "output_type": "stream",
     "text": [
      "             precision    recall  f1-score   support\n",
      "\n",
      "          0      0.416     0.496     0.452     21438\n",
      "          1      0.577     0.497     0.534     29710\n",
      "\n",
      "avg / total      0.510     0.496     0.500     51148\n",
      "\n"
     ]
    }
   ],
   "source": [
    "# baseline\n",
    "t = random_predictions(df)\n",
    "print(metrics.classification_report(y_pred=(dev_probs >= thresh), y_true=t, digits = 3))"
   ]
  },
  {
   "cell_type": "code",
   "execution_count": 183,
   "metadata": {},
   "outputs": [],
   "source": [
    "features = [x for x in df.columns if x not in not_features]\n",
    "rfc = RandomForestClassifier(n_estimators=100, min_samples_split=75, max_features=None)\n",
    "m = df.model_set == 'train'\n",
    "rfc.fit(df.loc[m,features], df[m]['got_hit'])\n",
    "m = df.model_set == 'dev'\n",
    "dev_probs = rfc.predict_proba(df.loc[m,features])[:,1]"
   ]
  },
  {
   "cell_type": "code",
   "execution_count": 212,
   "metadata": {},
   "outputs": [
    {
     "name": "stdout",
     "output_type": "stream",
     "text": [
      "             precision    recall  f1-score   support\n",
      "\n",
      "      False      0.482     0.575     0.525     21450\n",
      "       True      0.644     0.554     0.596     29698\n",
      "\n",
      "avg / total      0.576     0.563     0.566     51148\n",
      "\n"
     ]
    }
   ],
   "source": [
    "# random forest. 7% improvement over baseline\n",
    "thresh = np.percentile(dev_probs, 50)\n",
    "print(metrics.classification_report(y_pred=(dev_probs >= thresh), y_true=df[m]['got_hit'], digits = 3))"
   ]
  },
  {
   "cell_type": "code",
   "execution_count": 231,
   "metadata": {},
   "outputs": [],
   "source": [
    "df.to_csv('data/analysis_2_.csv', index = False)"
   ]
  },
  {
   "cell_type": "markdown",
   "metadata": {},
   "source": [
    "## Something with Pitching"
   ]
  }
 ],
 "metadata": {
  "kernelspec": {
   "display_name": "conda_root",
   "language": "python",
   "name": "py3"
  },
  "language_info": {
   "codemirror_mode": {
    "name": "ipython",
    "version": 3
   },
   "file_extension": ".py",
   "mimetype": "text/x-python",
   "name": "python",
   "nbconvert_exporter": "python",
   "pygments_lexer": "ipython3",
   "version": "3.6.3"
  }
 },
 "nbformat": 4,
 "nbformat_minor": 2
}
