{
 "cells": [
  {
   "cell_type": "code",
   "execution_count": 1,
   "metadata": {
    "collapsed": true
   },
   "outputs": [],
   "source": [
    "from bs4 import BeautifulSoup as BS\n",
    "import requests\n",
    "from selenium import webdriver\n",
    "from selenium.webdriver.firefox.firefox_binary import FirefoxBinary\n",
    "from selenium.webdriver.support.ui import WebDriverWait\n",
    "import pandas as pd\n",
    "import numpy as np\n",
    "import datetime\n",
    "from time import sleep\n",
    "import os"
   ]
  },
  {
   "cell_type": "code",
   "execution_count": 2,
   "metadata": {
    "collapsed": true
   },
   "outputs": [],
   "source": [
    "def get_matchups(browser, day):\n",
    "    #pull up url\n",
    "    browser.get(url_base + str(day))\n",
    "    soup = BS(browser.page_source, \"lxml\")\n",
    "    sleep(2)\n",
    "    if soup.find(attrs = {'class':\"no_games\"}):\n",
    "        df = pd.DataFrame(columns=['p_away', 'p_home', 'matchup', \n",
    "                                   'p_away_LHP', 'p_home_LHP', 't_away',\n",
    "                                   't_home', 'date'])\n",
    "    else:\n",
    "        # Get matchups stored in <h4>\n",
    "        bad_headers = ['AL East','AL Central','AL West','NL East','NL Central','NL West']\n",
    "        matchups = [matchup.text for matchup in soup.find_all('h4') if matchup.text not in bad_headers]\n",
    "\n",
    "        # Get pitchers stored in <h5>\n",
    "        # Separate into away and home pitchers\n",
    "        pitchers = [header.text for header in soup.findAll('h5')]\n",
    "        pitchers_away = []\n",
    "        pitchers_home = []\n",
    "        for pitcher in pitchers:\n",
    "            if pitchers.index(pitcher) % 2 == 0:\n",
    "                pitchers_away.append(pitcher)\n",
    "            else:\n",
    "                pitchers_home.append(pitcher)\n",
    "\n",
    "        # Combine pitchers and matchups into nested list\n",
    "        # Based on order of DOM\n",
    "        zipped_list = list(zip(pitchers_away,pitchers_home,matchups))\n",
    "\n",
    "        #convert zipped list to df and split non-atomic cells\n",
    "        df = pd.DataFrame(zipped_list, columns = ['p_away','p_home','matchup'])\n",
    "        df['p_away_LHP'] = df.p_away.str.endswith('LHP')\n",
    "        df['p_home_LHP'] = df.p_home.str.endswith('LHP')\n",
    "        df['p_away'] = df.p_away.str.slice(0,-5)\n",
    "        df['p_home'] = df.p_home.str.slice(0,-5)\n",
    "        matchups_split = df.matchup.str.split(\" @ \", expand=True).rename(columns =\n",
    "                                                       {0:\"t_away\",\n",
    "                                                       1:\"t_home\"})\n",
    "        df = pd.concat([df, matchups_split], axis=1)\n",
    "        df['date'] = day\n",
    "    return df"
   ]
  },
  {
   "cell_type": "code",
   "execution_count": 8,
   "metadata": {
    "collapsed": true
   },
   "outputs": [],
   "source": [
    "# Create list of days to iterate over\n",
    "start = datetime.date(year = 2016, month = 4, day = 3)\n",
    "end = datetime.date(year = 2016, month = 10, day = 2)\n",
    "date_range = []\n",
    "while start <= end:\n",
    "    date_range.append(start)\n",
    "    start += datetime.timedelta(days = 1)\n",
    "\n",
    "master_df = pd.DataFrame(columns=['p_away', 'p_home', 'matchup', \n",
    "                           'p_away_LHP', 'p_home_LHP', 't_away',\n",
    "                           't_home', 'date'])\n",
    "\n",
    "url_base = \"http://mlb.mlb.com/news/probable_pitchers/?c_id=mlb&date=\"\n",
    "binary = FirefoxBinary(r'C:\\Program Files (x86)\\Mozilla Firefox\\firefox.exe')\n",
    "browser = webdriver.Firefox(firefox_binary=binary)\n",
    "\n",
    "for day in date_range:\n",
    "    df = get_matchups(browser = browser, day=day)\n",
    "    master_df = master_df.append(df)"
   ]
  },
  {
   "cell_type": "code",
   "execution_count": 9,
   "metadata": {
    "collapsed": false
   },
   "outputs": [],
   "source": [
    "master_df.to_csv('matchups_2016.csv')"
   ]
  }
 ],
 "metadata": {
  "anaconda-cloud": {},
  "kernelspec": {
   "display_name": "Python [conda root]",
   "language": "python",
   "name": "conda-root-py"
  },
  "language_info": {
   "codemirror_mode": {
    "name": "ipython",
    "version": 3
   },
   "file_extension": ".py",
   "mimetype": "text/x-python",
   "name": "python",
   "nbconvert_exporter": "python",
   "pygments_lexer": "ipython3",
   "version": "3.5.2"
  }
 },
 "nbformat": 4,
 "nbformat_minor": 1
}
